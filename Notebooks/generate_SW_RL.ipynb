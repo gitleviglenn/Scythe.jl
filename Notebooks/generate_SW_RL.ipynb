{
 "cells": [
  {
   "cell_type": "code",
   "execution_count": 1,
   "id": "c15eae89-2c0a-44bf-b325-189bd5761229",
   "metadata": {},
   "outputs": [
    {
     "name": "stderr",
     "output_type": "stream",
     "text": [
      "┌ Info: Precompiling Integrator [top-level]\n",
      "└ @ Base loading.jl:1423\n"
     ]
    }
   ],
   "source": [
    "push!(LOAD_PATH, pwd())\n",
    "using Integrator\n",
    "using SpectralGrid\n",
    "using CubicBSpline\n",
    "using Chebyshev\n",
    "using Fourier\n",
    "using NumericalModels\n",
    "using Parameters\n",
    "using CSV\n",
    "using DataFrames"
   ]
  },
  {
   "cell_type": "code",
   "execution_count": 2,
   "id": "3a073dd1-2b67-434b-9a10-f47b7fdfda8e",
   "metadata": {},
   "outputs": [
    {
     "data": {
      "text/plain": [
       "ModelParameters\n",
       "  ts: Float64 1.0\n",
       "  integration_time: Float64 3600.0\n",
       "  output_interval: Float64 3600.0\n",
       "  equation_set: String \"LinearShallowWaterRL\"\n",
       "  initial_conditions: String \"gauss_RL_ics.csv\"\n",
       "  output_dir: String \"./linearSW_output/\"\n",
       "  grid_params: GridParameters\n"
      ]
     },
     "execution_count": 2,
     "metadata": {},
     "output_type": "execute_result"
    }
   ],
   "source": [
    "nodes = 100\n",
    "lpoints = 0\n",
    "blpoints = 0\n",
    "for r = 1:(nodes*3)\n",
    "    lpoints += 4 + 4*r\n",
    "    blpoints += 1 + 2*r\n",
    "end\n",
    "model = ModelParameters(\n",
    "    ts = 1.0,\n",
    "    integration_time = 3600.0,\n",
    "    output_interval = 3600.0,\n",
    "    equation_set = \"LinearShallowWaterRL\",\n",
    "    initial_conditions = \"gauss_RL_ics.csv\",\n",
    "    output_dir = \"./linearSW_output/\",\n",
    "    grid_params = GridParameters(xmin = 0.0,\n",
    "        xmax = 2.0e5,\n",
    "        num_nodes = nodes,\n",
    "        rDim = nodes*3,\n",
    "        b_rDim = nodes+3,\n",
    "        BCL = Dict(\n",
    "            \"h\" => CubicBSpline.R0, \n",
    "            \"u\" => CubicBSpline.R1T0, \n",
    "            \"v\" => CubicBSpline.R1T0),\n",
    "        BCR = Dict(\n",
    "            \"h\" => CubicBSpline.R0, \n",
    "            \"u\" => CubicBSpline.R0, \n",
    "            \"v\" => CubicBSpline.R0), \n",
    "        lDim = lpoints,\n",
    "        b_lDim = blpoints,\n",
    "        vars = Dict(\n",
    "            \"h\" => 1, \n",
    "            \"u\" => 2, \n",
    "            \"v\" => 3)))"
   ]
  },
  {
   "cell_type": "code",
   "execution_count": 3,
   "id": "31037dcb-8f99-4f36-bc80-5dbd3845bfa3",
   "metadata": {},
   "outputs": [],
   "source": [
    "grid = createGrid(model.grid_params);"
   ]
  },
  {
   "cell_type": "code",
   "execution_count": 4,
   "id": "2f2e2e7c-af4b-435c-bd15-f95734ead257",
   "metadata": {},
   "outputs": [
    {
     "data": {
      "text/plain": [
       "181800×2 Matrix{Float64}:\n",
       "  225.403           0.0\n",
       "  159.384         159.384\n",
       "    1.3802e-14    225.403\n",
       " -159.384         159.384\n",
       " -225.403           2.76039e-14\n",
       " -159.384        -159.384\n",
       "   -4.14059e-14  -225.403\n",
       "  159.384        -159.384\n",
       "  965.926         258.819\n",
       "  707.107         707.107\n",
       "  258.819         965.926\n",
       " -258.819         965.926\n",
       " -707.107         707.107\n",
       "    ⋮            \n",
       "    1.50513e5       1.31361e5\n",
       "    1.49826e5       1.32145e5\n",
       "    1.49134e5       1.32925e5\n",
       "    1.48438e5       1.33701e5\n",
       "    1.47738e5       1.34474e5\n",
       "    1.47035e5       1.35243e5\n",
       "    1.46327e5       1.36009e5\n",
       "    1.45615e5       1.3677e5\n",
       "    1.44899e5       1.37528e5\n",
       "    1.4418e5        1.38283e5\n",
       "    1.43456e5       1.39033e5\n",
       "    1.42729e5       1.3978e5"
      ]
     },
     "execution_count": 4,
     "metadata": {},
     "output_type": "execute_result"
    }
   ],
   "source": [
    "gridpoints = getGridpoints(grid)\n",
    "cartesian = getCartesianGridpoints(grid)"
   ]
  },
  {
   "cell_type": "code",
   "execution_count": 43,
   "id": "4ea875fe-91dc-4c40-adae-733ae5f1e3e5",
   "metadata": {},
   "outputs": [],
   "source": [
    "V0 = 30.0 / 50000.0\n",
    "f = 5.0e-5\n",
    "#V = 0.0\n",
    "#U = -10.0\n",
    "r_1 = 0.0\n",
    "h = 0.0\n",
    "v = 0.0\n",
    "for i = 1:grid.params.lDim\n",
    "    r_m = gridpoints[i,1]\n",
    "    l_m = gridpoints[i,2]\n",
    "    x_m = cartesian[i,1]\n",
    "    y_m = cartesian[i,2]\n",
    "    if (r_m < 50000.0)\n",
    "        v = V0 * r_m\n",
    "    else\n",
    "        v = 25.0e8 * V0 / r_m\n",
    "    end\n",
    "    if r_m > r_1\n",
    "        dhdr = ((f * v) + (v * v / r_m)) / 9.81\n",
    "        h = h + (dhdr * (r_m - r_1))\n",
    "        r_1 = r_m\n",
    "    end\n",
    "    grid.physical[i,1,1] = h\n",
    "    # Gaussian blob test\n",
    "    #grid.physical[i,1,1] = 100.0*exp(-((x_m-5.0e4)^2 / (2 * 1.0e4^2)) - \n",
    "    #    ((y_m)^2 / (2 * 1.0e4^2))) + 100.0*exp(-((x_m+5.0e4)^2 / (2 * 1.0e4^2)) - \n",
    "    #    ((y_m)^2 / (2 * 1.0e4^2)))\n",
    "    #grid.physical[i,2,1] = (U * cos(l_m)) + (V * sin(l_m))\n",
    "    grid.physical[i,2,1] = 0.0\n",
    "    grid.physical[i,3,1] = v\n",
    "    #grid.physical[i,3,1] = -(U * sin(l_m)) + (V * cos(l_m))\n",
    "end"
   ]
  },
  {
   "cell_type": "code",
   "execution_count": 44,
   "id": "485bec4e-e9f4-419d-96e4-3f61f5b4a0ca",
   "metadata": {},
   "outputs": [
    {
     "data": {
      "text/html": [
       "<div class=\"data-frame\"><p>181,800 rows × 5 columns</p><table class=\"data-frame\"><thead><tr><th></th><th>r</th><th>l</th><th>h</th><th>u</th><th>v</th></tr><tr><th></th><th title=\"Float64\">Float64</th><th title=\"Float64\">Float64</th><th title=\"Float64\">Float64</th><th title=\"Float64\">Float64</th><th title=\"Float64\">Float64</th></tr></thead><tbody><tr><th>1</th><td>225.403</td><td>0.0</td><td>0.00201984</td><td>0.0</td><td>0.135242</td></tr><tr><th>2</th><td>225.403</td><td>0.785398</td><td>0.00201984</td><td>0.0</td><td>0.135242</td></tr><tr><th>3</th><td>225.403</td><td>1.5708</td><td>0.00201984</td><td>0.0</td><td>0.135242</td></tr><tr><th>4</th><td>225.403</td><td>2.35619</td><td>0.00201984</td><td>0.0</td><td>0.135242</td></tr><tr><th>5</th><td>225.403</td><td>3.14159</td><td>0.00201984</td><td>0.0</td><td>0.135242</td></tr><tr><th>6</th><td>225.403</td><td>3.92699</td><td>0.00201984</td><td>0.0</td><td>0.135242</td></tr><tr><th>7</th><td>225.403</td><td>4.71239</td><td>0.00201984</td><td>0.0</td><td>0.135242</td></tr><tr><th>8</th><td>225.403</td><td>5.49779</td><td>0.00201984</td><td>0.0</td><td>0.135242</td></tr><tr><th>9</th><td>1000.0</td><td>0.261799</td><td>0.0328142</td><td>0.0</td><td>0.6</td></tr><tr><th>10</th><td>1000.0</td><td>0.785398</td><td>0.0328142</td><td>0.0</td><td>0.6</td></tr><tr><th>11</th><td>1000.0</td><td>1.309</td><td>0.0328142</td><td>0.0</td><td>0.6</td></tr><tr><th>12</th><td>1000.0</td><td>1.8326</td><td>0.0328142</td><td>0.0</td><td>0.6</td></tr><tr><th>13</th><td>1000.0</td><td>2.35619</td><td>0.0328142</td><td>0.0</td><td>0.6</td></tr><tr><th>14</th><td>1000.0</td><td>2.87979</td><td>0.0328142</td><td>0.0</td><td>0.6</td></tr><tr><th>15</th><td>1000.0</td><td>3.40339</td><td>0.0328142</td><td>0.0</td><td>0.6</td></tr><tr><th>16</th><td>1000.0</td><td>3.92699</td><td>0.0328142</td><td>0.0</td><td>0.6</td></tr><tr><th>17</th><td>1000.0</td><td>4.45059</td><td>0.0328142</td><td>0.0</td><td>0.6</td></tr><tr><th>18</th><td>1000.0</td><td>4.97419</td><td>0.0328142</td><td>0.0</td><td>0.6</td></tr><tr><th>19</th><td>1000.0</td><td>5.49779</td><td>0.0328142</td><td>0.0</td><td>0.6</td></tr><tr><th>20</th><td>1000.0</td><td>6.02139</td><td>0.0328142</td><td>0.0</td><td>0.6</td></tr><tr><th>21</th><td>1774.6</td><td>0.392699</td><td>0.0874618</td><td>0.0</td><td>1.06476</td></tr><tr><th>22</th><td>1774.6</td><td>0.785398</td><td>0.0874618</td><td>0.0</td><td>1.06476</td></tr><tr><th>23</th><td>1774.6</td><td>1.1781</td><td>0.0874618</td><td>0.0</td><td>1.06476</td></tr><tr><th>24</th><td>1774.6</td><td>1.5708</td><td>0.0874618</td><td>0.0</td><td>1.06476</td></tr><tr><th>25</th><td>1774.6</td><td>1.9635</td><td>0.0874618</td><td>0.0</td><td>1.06476</td></tr><tr><th>26</th><td>1774.6</td><td>2.35619</td><td>0.0874618</td><td>0.0</td><td>1.06476</td></tr><tr><th>27</th><td>1774.6</td><td>2.74889</td><td>0.0874618</td><td>0.0</td><td>1.06476</td></tr><tr><th>28</th><td>1774.6</td><td>3.14159</td><td>0.0874618</td><td>0.0</td><td>1.06476</td></tr><tr><th>29</th><td>1774.6</td><td>3.53429</td><td>0.0874618</td><td>0.0</td><td>1.06476</td></tr><tr><th>30</th><td>1774.6</td><td>3.92699</td><td>0.0874618</td><td>0.0</td><td>1.06476</td></tr><tr><th>&vellip;</th><td>&vellip;</td><td>&vellip;</td><td>&vellip;</td><td>&vellip;</td><td>&vellip;</td></tr></tbody></table></div>"
      ],
      "text/latex": [
       "\\begin{tabular}{r|ccccc}\n",
       "\t& r & l & h & u & v\\\\\n",
       "\t\\hline\n",
       "\t& Float64 & Float64 & Float64 & Float64 & Float64\\\\\n",
       "\t\\hline\n",
       "\t1 & 225.403 & 0.0 & 0.00201984 & 0.0 & 0.135242 \\\\\n",
       "\t2 & 225.403 & 0.785398 & 0.00201984 & 0.0 & 0.135242 \\\\\n",
       "\t3 & 225.403 & 1.5708 & 0.00201984 & 0.0 & 0.135242 \\\\\n",
       "\t4 & 225.403 & 2.35619 & 0.00201984 & 0.0 & 0.135242 \\\\\n",
       "\t5 & 225.403 & 3.14159 & 0.00201984 & 0.0 & 0.135242 \\\\\n",
       "\t6 & 225.403 & 3.92699 & 0.00201984 & 0.0 & 0.135242 \\\\\n",
       "\t7 & 225.403 & 4.71239 & 0.00201984 & 0.0 & 0.135242 \\\\\n",
       "\t8 & 225.403 & 5.49779 & 0.00201984 & 0.0 & 0.135242 \\\\\n",
       "\t9 & 1000.0 & 0.261799 & 0.0328142 & 0.0 & 0.6 \\\\\n",
       "\t10 & 1000.0 & 0.785398 & 0.0328142 & 0.0 & 0.6 \\\\\n",
       "\t11 & 1000.0 & 1.309 & 0.0328142 & 0.0 & 0.6 \\\\\n",
       "\t12 & 1000.0 & 1.8326 & 0.0328142 & 0.0 & 0.6 \\\\\n",
       "\t13 & 1000.0 & 2.35619 & 0.0328142 & 0.0 & 0.6 \\\\\n",
       "\t14 & 1000.0 & 2.87979 & 0.0328142 & 0.0 & 0.6 \\\\\n",
       "\t15 & 1000.0 & 3.40339 & 0.0328142 & 0.0 & 0.6 \\\\\n",
       "\t16 & 1000.0 & 3.92699 & 0.0328142 & 0.0 & 0.6 \\\\\n",
       "\t17 & 1000.0 & 4.45059 & 0.0328142 & 0.0 & 0.6 \\\\\n",
       "\t18 & 1000.0 & 4.97419 & 0.0328142 & 0.0 & 0.6 \\\\\n",
       "\t19 & 1000.0 & 5.49779 & 0.0328142 & 0.0 & 0.6 \\\\\n",
       "\t20 & 1000.0 & 6.02139 & 0.0328142 & 0.0 & 0.6 \\\\\n",
       "\t21 & 1774.6 & 0.392699 & 0.0874618 & 0.0 & 1.06476 \\\\\n",
       "\t22 & 1774.6 & 0.785398 & 0.0874618 & 0.0 & 1.06476 \\\\\n",
       "\t23 & 1774.6 & 1.1781 & 0.0874618 & 0.0 & 1.06476 \\\\\n",
       "\t24 & 1774.6 & 1.5708 & 0.0874618 & 0.0 & 1.06476 \\\\\n",
       "\t25 & 1774.6 & 1.9635 & 0.0874618 & 0.0 & 1.06476 \\\\\n",
       "\t26 & 1774.6 & 2.35619 & 0.0874618 & 0.0 & 1.06476 \\\\\n",
       "\t27 & 1774.6 & 2.74889 & 0.0874618 & 0.0 & 1.06476 \\\\\n",
       "\t28 & 1774.6 & 3.14159 & 0.0874618 & 0.0 & 1.06476 \\\\\n",
       "\t29 & 1774.6 & 3.53429 & 0.0874618 & 0.0 & 1.06476 \\\\\n",
       "\t30 & 1774.6 & 3.92699 & 0.0874618 & 0.0 & 1.06476 \\\\\n",
       "\t$\\dots$ & $\\dots$ & $\\dots$ & $\\dots$ & $\\dots$ & $\\dots$ \\\\\n",
       "\\end{tabular}\n"
      ],
      "text/plain": [
       "\u001b[1m181800×5 DataFrame\u001b[0m\n",
       "\u001b[1m    Row \u001b[0m│\u001b[1m r            \u001b[0m\u001b[1m l        \u001b[0m\u001b[1m h            \u001b[0m\u001b[1m u       \u001b[0m\u001b[1m v        \u001b[0m\n",
       "\u001b[1m        \u001b[0m│\u001b[90m Float64      \u001b[0m\u001b[90m Float64  \u001b[0m\u001b[90m Float64      \u001b[0m\u001b[90m Float64 \u001b[0m\u001b[90m Float64  \u001b[0m\n",
       "────────┼─────────────────────────────────────────────────────────\n",
       "      1 │  225.403      0.0         0.00201984      0.0  0.135242\n",
       "      2 │  225.403      0.785398    0.00201984      0.0  0.135242\n",
       "      3 │  225.403      1.5708      0.00201984      0.0  0.135242\n",
       "      4 │  225.403      2.35619     0.00201984      0.0  0.135242\n",
       "      5 │  225.403      3.14159     0.00201984      0.0  0.135242\n",
       "      6 │  225.403      3.92699     0.00201984      0.0  0.135242\n",
       "      7 │  225.403      4.71239     0.00201984      0.0  0.135242\n",
       "      8 │  225.403      5.49779     0.00201984      0.0  0.135242\n",
       "      9 │ 1000.0        0.261799    0.0328142       0.0  0.6\n",
       "     10 │ 1000.0        0.785398    0.0328142       0.0  0.6\n",
       "     11 │ 1000.0        1.309       0.0328142       0.0  0.6\n",
       "   ⋮    │      ⋮           ⋮           ⋮           ⋮        ⋮\n",
       " 181791 │    1.99775e5  7.01118   103.306           0.0  7.50846\n",
       " 181792 │    1.99775e5  7.0164    103.306           0.0  7.50846\n",
       " 181793 │    1.99775e5  7.02162   103.306           0.0  7.50846\n",
       " 181794 │    1.99775e5  7.02683   103.306           0.0  7.50846\n",
       " 181795 │    1.99775e5  7.03205   103.306           0.0  7.50846\n",
       " 181796 │    1.99775e5  7.03727   103.306           0.0  7.50846\n",
       " 181797 │    1.99775e5  7.04249   103.306           0.0  7.50846\n",
       " 181798 │    1.99775e5  7.04771   103.306           0.0  7.50846\n",
       " 181799 │    1.99775e5  7.05293   103.306           0.0  7.50846\n",
       " 181800 │    1.99775e5  7.05815   103.306           0.0  7.50846\n",
       "\u001b[36m                                               181779 rows omitted\u001b[0m"
      ]
     },
     "execution_count": 44,
     "metadata": {},
     "output_type": "execute_result"
    }
   ],
   "source": [
    "gauss_ics = DataFrame(r=gridpoints[:,1],\n",
    "    l=gridpoints[:,2], \n",
    "    h=grid.physical[:,1,1], \n",
    "    u=grid.physical[:,2,1], \n",
    "    v=grid.physical[:,3,1]) "
   ]
  },
  {
   "cell_type": "code",
   "execution_count": 45,
   "id": "d5647368-eb9d-417c-b269-bd58808689e1",
   "metadata": {},
   "outputs": [
    {
     "data": {
      "text/plain": [
       "181800-element Vector{Float64}:\n",
       "   0.002019836696395817\n",
       "   0.002019836696395817\n",
       "   0.002019836696395817\n",
       "   0.002019836696395817\n",
       "   0.002019836696395817\n",
       "   0.002019836696395817\n",
       "   0.002019836696395817\n",
       "   0.002019836696395817\n",
       "   0.03281419969376366\n",
       "   0.03281419969376366\n",
       "   0.03281419969376366\n",
       "   0.03281419969376366\n",
       "   0.03281419969376366\n",
       "   ⋮\n",
       " 103.30572853731925\n",
       " 103.30572853731925\n",
       " 103.30572853731925\n",
       " 103.30572853731925\n",
       " 103.30572853731925\n",
       " 103.30572853731925\n",
       " 103.30572853731925\n",
       " 103.30572853731925\n",
       " 103.30572853731925\n",
       " 103.30572853731925\n",
       " 103.30572853731925\n",
       " 103.30572853731925"
      ]
     },
     "execution_count": 45,
     "metadata": {},
     "output_type": "execute_result"
    }
   ],
   "source": [
    "gauss_ics.h"
   ]
  },
  {
   "cell_type": "code",
   "execution_count": 46,
   "id": "efc30135-2890-4257-9035-636aa3368cdd",
   "metadata": {},
   "outputs": [
    {
     "data": {
      "text/plain": [
       "\"gauss_SW_rankine_ics.csv\""
      ]
     },
     "execution_count": 46,
     "metadata": {},
     "output_type": "execute_result"
    }
   ],
   "source": [
    "CSV.write(\"gauss_SW_rankine_ics.csv\",gauss_ics)"
   ]
  },
  {
   "cell_type": "code",
   "execution_count": null,
   "id": "26892a4c-1c36-4305-af92-7334ff519369",
   "metadata": {},
   "outputs": [],
   "source": [
    "grid2 = initialize_model(model)"
   ]
  },
  {
   "cell_type": "code",
   "execution_count": null,
   "id": "e1f11c2f-3687-4e42-ac8c-996d5951a92b",
   "metadata": {},
   "outputs": [],
   "source": [
    "ics = CSV.read(\"rankine_test_ic.csv\", DataFrame, header=1)\n",
    "vgr = ics.vgr\n",
    "u = zeros(Float64,6000)\n",
    "fullics = DataFrame(i=ics.i, r=ics.r, vgr=ics.vgr, u=zeros(Float64,6000), v=ics.vgr, w=zeros(Float64,6000))"
   ]
  },
  {
   "cell_type": "code",
   "execution_count": null,
   "id": "af0af363-4269-4d8e-ba10-12e5e11e800e",
   "metadata": {},
   "outputs": [],
   "source": [
    "gp = model.grid_params\n",
    "grid = createGrid(gp);"
   ]
  },
  {
   "cell_type": "code",
   "execution_count": null,
   "id": "3188431a-7d41-4ebd-b652-f4b5388e5ac3",
   "metadata": {},
   "outputs": [],
   "source": [
    "V0 = 50.0 / 20000.0\n",
    "for i = 1:grid.params.lDim\n",
    "    r_m = gridpoints[i,1]\n",
    "    l_m = gridpoints[i,2]\n",
    "    if (r_m < 20000.0)\n",
    "        grid.physical[i,1,1] = V0 * r_m\n",
    "        grid.physical[i,2,1] = 0.0\n",
    "        grid.physical[i,3,1] = V0 * r_m\n",
    "        grid.physical[i,4,1] = 0.0\n",
    "    else\n",
    "        grid.physical[i,1,1] = 4.0e8 * V0 / r_m\n",
    "        grid.physical[i,2,1] = 0.0\n",
    "        grid.physical[i,3,1] = 4.0e8 * V0 / r_m\n",
    "        grid.physical[i,4,1] = 0.0\n",
    "    end\n",
    "end"
   ]
  },
  {
   "cell_type": "code",
   "execution_count": null,
   "id": "a3b7632d-6276-4c71-8cf0-f8dd74d70960",
   "metadata": {},
   "outputs": [],
   "source": [
    "i = 1\n",
    "r_m = zeros(Float64,size(grid.physical[:,1,1]))\n",
    "z_m = zeros(Float64,size(grid.physical[:,1,1]))\n",
    "for z = 1:grid.params.zDim\n",
    "    for r = 1:grid.params.rDim\n",
    "        r_m[i] = grid.splines[1,1].mishPoints[r]\n",
    "        z_m[i] = grid.columns[1].mishPoints[z]\n",
    "        grid.physical[i,1,1] = fullics.vgr[r]\n",
    "        grid.physical[i,2,1] = fullics.u[r]\n",
    "        grid.physical[i,3,1] = fullics.v[r]\n",
    "        grid.physical[i,4,1] = fullics.w[r]\n",
    "        i += 1\n",
    "    end\n",
    "end"
   ]
  },
  {
   "cell_type": "code",
   "execution_count": null,
   "id": "14b00a07-4302-4445-b98a-a889eae6e904",
   "metadata": {},
   "outputs": [],
   "source": [
    "rzics = DataFrame(r=r_m, z=z_m, vgr=grid.physical[:,1,1], u=grid.physical[:,2,1], v=grid.physical[:,3,1], w=grid.physical[:,4,1])"
   ]
  },
  {
   "cell_type": "code",
   "execution_count": null,
   "id": "1338370c-8347-4ae4-8372-315ebada139f",
   "metadata": {},
   "outputs": [],
   "source": [
    "CSV.write(\"rankine_RZ_ics.csv\",rzics)"
   ]
  },
  {
   "cell_type": "code",
   "execution_count": null,
   "id": "53e6f331-7f37-4ef8-8996-0153b1c86233",
   "metadata": {},
   "outputs": [],
   "source": []
  }
 ],
 "metadata": {
  "kernelspec": {
   "display_name": "Julia 1.7.1",
   "language": "julia",
   "name": "julia-1.7"
  },
  "language_info": {
   "file_extension": ".jl",
   "mimetype": "application/julia",
   "name": "julia",
   "version": "1.7.2"
  }
 },
 "nbformat": 4,
 "nbformat_minor": 5
}
