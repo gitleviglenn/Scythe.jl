{
 "cells": [
  {
   "cell_type": "code",
   "execution_count": 1,
   "id": "c15eae89-2c0a-44bf-b325-189bd5761229",
   "metadata": {},
   "outputs": [],
   "source": [
    "push!(LOAD_PATH, \"../\")\n",
    "using Integrator\n",
    "using SpectralGrid\n",
    "using CubicBSpline\n",
    "using Chebyshev\n",
    "using Fourier\n",
    "using NumericalModels\n",
    "using Parameters\n",
    "using CSV\n",
    "using DataFrames"
   ]
  },
  {
   "cell_type": "code",
   "execution_count": 2,
   "id": "3a073dd1-2b67-434b-9a10-f47b7fdfda8e",
   "metadata": {},
   "outputs": [
    {
     "data": {
      "text/plain": [
       "ModelParameters\n",
       "  ts: Float64 1.0\n",
       "  integration_time: Float64 3600.0\n",
       "  output_interval: Float64 3600.0\n",
       "  equation_set: String \"LinearShallowWaterRL\"\n",
       "  initial_conditions: String \"gauss_RL_ics.csv\"\n",
       "  output_dir: String \"./linearSW_output/\"\n",
       "  grid_params: GridParameters\n"
      ]
     },
     "execution_count": 2,
     "metadata": {},
     "output_type": "execute_result"
    }
   ],
   "source": [
    "nodes = 100\n",
    "lpoints = 0\n",
    "blpoints = 0\n",
    "for r = 1:(nodes*3)\n",
    "    lpoints += 4 + 4*r\n",
    "    blpoints += 1 + 2*r\n",
    "end\n",
    "model = ModelParameters(\n",
    "    ts = 1.0,\n",
    "    integration_time = 3600.0,\n",
    "    output_interval = 3600.0,\n",
    "    equation_set = \"LinearShallowWaterRL\",\n",
    "    initial_conditions = \"gauss_RL_ics.csv\",\n",
    "    output_dir = \"./linearSW_output/\",\n",
    "    grid_params = GridParameters(xmin = 0.0,\n",
    "        xmax = 3.0e5,\n",
    "        num_nodes = nodes,\n",
    "        rDim = nodes*3,\n",
    "        b_rDim = nodes+3,\n",
    "        BCL = Dict(\n",
    "            \"h\" => CubicBSpline.R0, \n",
    "            \"u\" => CubicBSpline.R1T0, \n",
    "            \"v\" => CubicBSpline.R1T0,\n",
    "            \"ub\" => CubicBSpline.R1T0, \n",
    "            \"vb\" => CubicBSpline.R1T0,\n",
    "            \"wb\" => CubicBSpline.R1T0),\n",
    "        BCR = Dict(\n",
    "            \"h\" => CubicBSpline.R0, \n",
    "            \"u\" => CubicBSpline.R0, \n",
    "            \"v\" => CubicBSpline.R0,\n",
    "            \"ub\" => CubicBSpline.R0, \n",
    "            \"vb\" => CubicBSpline.R0,\n",
    "            \"wb\" => CubicBSpline.R0),\n",
    "        lDim = lpoints,\n",
    "        b_lDim = blpoints,\n",
    "        vars = Dict(\n",
    "            \"h\" => 1, \n",
    "            \"u\" => 2, \n",
    "            \"v\" => 3,\n",
    "            \"ub\" => 4, \n",
    "            \"vb\" => 5,\n",
    "            \"wb\" => 6)))"
   ]
  },
  {
   "cell_type": "code",
   "execution_count": 3,
   "id": "31037dcb-8f99-4f36-bc80-5dbd3845bfa3",
   "metadata": {},
   "outputs": [],
   "source": [
    "grid = createGrid(model.grid_params);"
   ]
  },
  {
   "cell_type": "code",
   "execution_count": 4,
   "id": "2f2e2e7c-af4b-435c-bd15-f95734ead257",
   "metadata": {},
   "outputs": [],
   "source": [
    "gridpoints = getGridpoints(grid)\n",
    "cartesian = getCartesianGridpoints(grid);"
   ]
  },
  {
   "cell_type": "code",
   "execution_count": 5,
   "id": "4ea875fe-91dc-4c40-adae-733ae5f1e3e5",
   "metadata": {},
   "outputs": [],
   "source": [
    "Rmax = 50000.0\n",
    "Vmax = 50.0\n",
    "V0 = Vmax / Rmax\n",
    "f = 0.0\n",
    "#V = 0.0\n",
    "#U = -10.0\n",
    "r_1 = 0.0\n",
    "h = 0.0\n",
    "v = 0.0\n",
    "dhdr_1 = 0.0\n",
    "for i = 1:grid.params.lDim\n",
    "    r_m = gridpoints[i,1]\n",
    "    l_m = gridpoints[i,2]\n",
    "    x_m = cartesian[i,1]\n",
    "    y_m = cartesian[i,2]\n",
    "    if (r_m < Rmax)\n",
    "        v = V0 * r_m\n",
    "    else\n",
    "        v = Rmax * Rmax * V0 / r_m\n",
    "    end\n",
    "    if r_m > r_1\n",
    "        dhdr = ((f * v) + (v * v / r_m)) / 9.81\n",
    "        h = h + (r_m - r_1) * 0.5 * (dhdr + dhdr_1)\n",
    "        dhdr_1 = dhdr\n",
    "        r_1 = r_m\n",
    "    end\n",
    "    grid.physical[i,1,1] = h\n",
    "    # Gaussian blob test\n",
    "    #grid.physical[i,1,1] = 100.0*exp(-((x_m-5.0e4)^2 / (2 * 1.0e4^2)) - \n",
    "    #    ((y_m)^2 / (2 * 1.0e4^2))) + 100.0*exp(-((x_m+5.0e4)^2 / (2 * 1.0e4^2)) - \n",
    "    #    ((y_m)^2 / (2 * 1.0e4^2)))\n",
    "    #grid.physical[i,2,1] = (U * cos(l_m)) + (V * sin(l_m))\n",
    "    grid.physical[i,2,1] = 0.0\n",
    "    grid.physical[i,3,1] = v\n",
    "    grid.physical[i,4,1] = 0.0\n",
    "    grid.physical[i,5,1] = v\n",
    "    grid.physical[i,6,1] = 0.0\n",
    "end"
   ]
  },
  {
   "cell_type": "code",
   "execution_count": 6,
   "id": "edd4223d-94da-4800-9afa-975f1596487f",
   "metadata": {},
   "outputs": [
    {
     "data": {
      "text/plain": [
       "181800-element Vector{Float64}:\n",
       " -251.25040974451437\n",
       " -251.25040974451437\n",
       " -251.25040974451437\n",
       " -251.25040974451437\n",
       " -251.25040974451437\n",
       " -251.25040974451437\n",
       " -251.25040974451437\n",
       " -251.25040974451437\n",
       " -251.14155729744064\n",
       " -251.14155729744064\n",
       " -251.14155729744064\n",
       " -251.14155729744064\n",
       " -251.14155729744064\n",
       "    ⋮\n",
       "    0.0\n",
       "    0.0\n",
       "    0.0\n",
       "    0.0\n",
       "    0.0\n",
       "    0.0\n",
       "    0.0\n",
       "    0.0\n",
       "    0.0\n",
       "    0.0\n",
       "    0.0\n",
       "    0.0"
      ]
     },
     "execution_count": 6,
     "metadata": {},
     "output_type": "execute_result"
    }
   ],
   "source": [
    "grid.physical[:,1,1] = grid.physical[:,1,1] .- 251.25623619652322"
   ]
  },
  {
   "cell_type": "code",
   "execution_count": 7,
   "id": "485bec4e-e9f4-419d-96e4-3f61f5b4a0ca",
   "metadata": {},
   "outputs": [
    {
     "data": {
      "text/html": [
       "<div class=\"data-frame\"><p>181,800 rows × 8 columns</p><table class=\"data-frame\"><thead><tr><th></th><th>r</th><th>l</th><th>h</th><th>u</th><th>v</th><th>ub</th><th>vb</th><th>wb</th></tr><tr><th></th><th title=\"Float64\">Float64</th><th title=\"Float64\">Float64</th><th title=\"Float64\">Float64</th><th title=\"Float64\">Float64</th><th title=\"Float64\">Float64</th><th title=\"Float64\">Float64</th><th title=\"Float64\">Float64</th><th title=\"Float64\">Float64</th></tr></thead><tbody><tr><th>1</th><td>338.105</td><td>0.0</td><td>-251.25</td><td>0.0</td><td>0.338105</td><td>0.0</td><td>0.338105</td><td>0.0</td></tr><tr><th>2</th><td>338.105</td><td>0.785398</td><td>-251.25</td><td>0.0</td><td>0.338105</td><td>0.0</td><td>0.338105</td><td>0.0</td></tr><tr><th>3</th><td>338.105</td><td>1.5708</td><td>-251.25</td><td>0.0</td><td>0.338105</td><td>0.0</td><td>0.338105</td><td>0.0</td></tr><tr><th>4</th><td>338.105</td><td>2.35619</td><td>-251.25</td><td>0.0</td><td>0.338105</td><td>0.0</td><td>0.338105</td><td>0.0</td></tr><tr><th>5</th><td>338.105</td><td>3.14159</td><td>-251.25</td><td>0.0</td><td>0.338105</td><td>0.0</td><td>0.338105</td><td>0.0</td></tr><tr><th>6</th><td>338.105</td><td>3.92699</td><td>-251.25</td><td>0.0</td><td>0.338105</td><td>0.0</td><td>0.338105</td><td>0.0</td></tr><tr><th>7</th><td>338.105</td><td>4.71239</td><td>-251.25</td><td>0.0</td><td>0.338105</td><td>0.0</td><td>0.338105</td><td>0.0</td></tr><tr><th>8</th><td>338.105</td><td>5.49779</td><td>-251.25</td><td>0.0</td><td>0.338105</td><td>0.0</td><td>0.338105</td><td>0.0</td></tr><tr><th>9</th><td>1500.0</td><td>0.261799</td><td>-251.142</td><td>0.0</td><td>1.5</td><td>0.0</td><td>1.5</td><td>0.0</td></tr><tr><th>10</th><td>1500.0</td><td>0.785398</td><td>-251.142</td><td>0.0</td><td>1.5</td><td>0.0</td><td>1.5</td><td>0.0</td></tr><tr><th>11</th><td>1500.0</td><td>1.309</td><td>-251.142</td><td>0.0</td><td>1.5</td><td>0.0</td><td>1.5</td><td>0.0</td></tr><tr><th>12</th><td>1500.0</td><td>1.8326</td><td>-251.142</td><td>0.0</td><td>1.5</td><td>0.0</td><td>1.5</td><td>0.0</td></tr><tr><th>13</th><td>1500.0</td><td>2.35619</td><td>-251.142</td><td>0.0</td><td>1.5</td><td>0.0</td><td>1.5</td><td>0.0</td></tr><tr><th>14</th><td>1500.0</td><td>2.87979</td><td>-251.142</td><td>0.0</td><td>1.5</td><td>0.0</td><td>1.5</td><td>0.0</td></tr><tr><th>15</th><td>1500.0</td><td>3.40339</td><td>-251.142</td><td>0.0</td><td>1.5</td><td>0.0</td><td>1.5</td><td>0.0</td></tr><tr><th>16</th><td>1500.0</td><td>3.92699</td><td>-251.142</td><td>0.0</td><td>1.5</td><td>0.0</td><td>1.5</td><td>0.0</td></tr><tr><th>17</th><td>1500.0</td><td>4.45059</td><td>-251.142</td><td>0.0</td><td>1.5</td><td>0.0</td><td>1.5</td><td>0.0</td></tr><tr><th>18</th><td>1500.0</td><td>4.97419</td><td>-251.142</td><td>0.0</td><td>1.5</td><td>0.0</td><td>1.5</td><td>0.0</td></tr><tr><th>19</th><td>1500.0</td><td>5.49779</td><td>-251.142</td><td>0.0</td><td>1.5</td><td>0.0</td><td>1.5</td><td>0.0</td></tr><tr><th>20</th><td>1500.0</td><td>6.02139</td><td>-251.142</td><td>0.0</td><td>1.5</td><td>0.0</td><td>1.5</td><td>0.0</td></tr><tr><th>21</th><td>2661.9</td><td>0.392699</td><td>-250.895</td><td>0.0</td><td>2.6619</td><td>0.0</td><td>2.6619</td><td>0.0</td></tr><tr><th>22</th><td>2661.9</td><td>0.785398</td><td>-250.895</td><td>0.0</td><td>2.6619</td><td>0.0</td><td>2.6619</td><td>0.0</td></tr><tr><th>23</th><td>2661.9</td><td>1.1781</td><td>-250.895</td><td>0.0</td><td>2.6619</td><td>0.0</td><td>2.6619</td><td>0.0</td></tr><tr><th>24</th><td>2661.9</td><td>1.5708</td><td>-250.895</td><td>0.0</td><td>2.6619</td><td>0.0</td><td>2.6619</td><td>0.0</td></tr><tr><th>25</th><td>2661.9</td><td>1.9635</td><td>-250.895</td><td>0.0</td><td>2.6619</td><td>0.0</td><td>2.6619</td><td>0.0</td></tr><tr><th>26</th><td>2661.9</td><td>2.35619</td><td>-250.895</td><td>0.0</td><td>2.6619</td><td>0.0</td><td>2.6619</td><td>0.0</td></tr><tr><th>27</th><td>2661.9</td><td>2.74889</td><td>-250.895</td><td>0.0</td><td>2.6619</td><td>0.0</td><td>2.6619</td><td>0.0</td></tr><tr><th>28</th><td>2661.9</td><td>3.14159</td><td>-250.895</td><td>0.0</td><td>2.6619</td><td>0.0</td><td>2.6619</td><td>0.0</td></tr><tr><th>29</th><td>2661.9</td><td>3.53429</td><td>-250.895</td><td>0.0</td><td>2.6619</td><td>0.0</td><td>2.6619</td><td>0.0</td></tr><tr><th>30</th><td>2661.9</td><td>3.92699</td><td>-250.895</td><td>0.0</td><td>2.6619</td><td>0.0</td><td>2.6619</td><td>0.0</td></tr><tr><th>&vellip;</th><td>&vellip;</td><td>&vellip;</td><td>&vellip;</td><td>&vellip;</td><td>&vellip;</td><td>&vellip;</td><td>&vellip;</td><td>&vellip;</td></tr></tbody></table></div>"
      ],
      "text/latex": [
       "\\begin{tabular}{r|cccccccc}\n",
       "\t& r & l & h & u & v & ub & vb & wb\\\\\n",
       "\t\\hline\n",
       "\t& Float64 & Float64 & Float64 & Float64 & Float64 & Float64 & Float64 & Float64\\\\\n",
       "\t\\hline\n",
       "\t1 & 338.105 & 0.0 & -251.25 & 0.0 & 0.338105 & 0.0 & 0.338105 & 0.0 \\\\\n",
       "\t2 & 338.105 & 0.785398 & -251.25 & 0.0 & 0.338105 & 0.0 & 0.338105 & 0.0 \\\\\n",
       "\t3 & 338.105 & 1.5708 & -251.25 & 0.0 & 0.338105 & 0.0 & 0.338105 & 0.0 \\\\\n",
       "\t4 & 338.105 & 2.35619 & -251.25 & 0.0 & 0.338105 & 0.0 & 0.338105 & 0.0 \\\\\n",
       "\t5 & 338.105 & 3.14159 & -251.25 & 0.0 & 0.338105 & 0.0 & 0.338105 & 0.0 \\\\\n",
       "\t6 & 338.105 & 3.92699 & -251.25 & 0.0 & 0.338105 & 0.0 & 0.338105 & 0.0 \\\\\n",
       "\t7 & 338.105 & 4.71239 & -251.25 & 0.0 & 0.338105 & 0.0 & 0.338105 & 0.0 \\\\\n",
       "\t8 & 338.105 & 5.49779 & -251.25 & 0.0 & 0.338105 & 0.0 & 0.338105 & 0.0 \\\\\n",
       "\t9 & 1500.0 & 0.261799 & -251.142 & 0.0 & 1.5 & 0.0 & 1.5 & 0.0 \\\\\n",
       "\t10 & 1500.0 & 0.785398 & -251.142 & 0.0 & 1.5 & 0.0 & 1.5 & 0.0 \\\\\n",
       "\t11 & 1500.0 & 1.309 & -251.142 & 0.0 & 1.5 & 0.0 & 1.5 & 0.0 \\\\\n",
       "\t12 & 1500.0 & 1.8326 & -251.142 & 0.0 & 1.5 & 0.0 & 1.5 & 0.0 \\\\\n",
       "\t13 & 1500.0 & 2.35619 & -251.142 & 0.0 & 1.5 & 0.0 & 1.5 & 0.0 \\\\\n",
       "\t14 & 1500.0 & 2.87979 & -251.142 & 0.0 & 1.5 & 0.0 & 1.5 & 0.0 \\\\\n",
       "\t15 & 1500.0 & 3.40339 & -251.142 & 0.0 & 1.5 & 0.0 & 1.5 & 0.0 \\\\\n",
       "\t16 & 1500.0 & 3.92699 & -251.142 & 0.0 & 1.5 & 0.0 & 1.5 & 0.0 \\\\\n",
       "\t17 & 1500.0 & 4.45059 & -251.142 & 0.0 & 1.5 & 0.0 & 1.5 & 0.0 \\\\\n",
       "\t18 & 1500.0 & 4.97419 & -251.142 & 0.0 & 1.5 & 0.0 & 1.5 & 0.0 \\\\\n",
       "\t19 & 1500.0 & 5.49779 & -251.142 & 0.0 & 1.5 & 0.0 & 1.5 & 0.0 \\\\\n",
       "\t20 & 1500.0 & 6.02139 & -251.142 & 0.0 & 1.5 & 0.0 & 1.5 & 0.0 \\\\\n",
       "\t21 & 2661.9 & 0.392699 & -250.895 & 0.0 & 2.6619 & 0.0 & 2.6619 & 0.0 \\\\\n",
       "\t22 & 2661.9 & 0.785398 & -250.895 & 0.0 & 2.6619 & 0.0 & 2.6619 & 0.0 \\\\\n",
       "\t23 & 2661.9 & 1.1781 & -250.895 & 0.0 & 2.6619 & 0.0 & 2.6619 & 0.0 \\\\\n",
       "\t24 & 2661.9 & 1.5708 & -250.895 & 0.0 & 2.6619 & 0.0 & 2.6619 & 0.0 \\\\\n",
       "\t25 & 2661.9 & 1.9635 & -250.895 & 0.0 & 2.6619 & 0.0 & 2.6619 & 0.0 \\\\\n",
       "\t26 & 2661.9 & 2.35619 & -250.895 & 0.0 & 2.6619 & 0.0 & 2.6619 & 0.0 \\\\\n",
       "\t27 & 2661.9 & 2.74889 & -250.895 & 0.0 & 2.6619 & 0.0 & 2.6619 & 0.0 \\\\\n",
       "\t28 & 2661.9 & 3.14159 & -250.895 & 0.0 & 2.6619 & 0.0 & 2.6619 & 0.0 \\\\\n",
       "\t29 & 2661.9 & 3.53429 & -250.895 & 0.0 & 2.6619 & 0.0 & 2.6619 & 0.0 \\\\\n",
       "\t30 & 2661.9 & 3.92699 & -250.895 & 0.0 & 2.6619 & 0.0 & 2.6619 & 0.0 \\\\\n",
       "\t$\\dots$ & $\\dots$ & $\\dots$ & $\\dots$ & $\\dots$ & $\\dots$ & $\\dots$ & $\\dots$ & $\\dots$ \\\\\n",
       "\\end{tabular}\n"
      ],
      "text/plain": [
       "\u001b[1m181800×8 DataFrame\u001b[0m\n",
       "\u001b[1m    Row \u001b[0m│\u001b[1m r            \u001b[0m\u001b[1m l        \u001b[0m\u001b[1m h        \u001b[0m\u001b[1m u       \u001b[0m\u001b[1m v        \u001b[0m\u001b[1m ub      \u001b[0m\u001b[1m vb    \u001b[0m ⋯\n",
       "\u001b[1m        \u001b[0m│\u001b[90m Float64      \u001b[0m\u001b[90m Float64  \u001b[0m\u001b[90m Float64  \u001b[0m\u001b[90m Float64 \u001b[0m\u001b[90m Float64  \u001b[0m\u001b[90m Float64 \u001b[0m\u001b[90m Float6\u001b[0m ⋯\n",
       "────────┼───────────────────────────────────────────────────────────────────────\n",
       "      1 │  338.105      0.0       -251.25       0.0  0.338105      0.0  0.3381 ⋯\n",
       "      2 │  338.105      0.785398  -251.25       0.0  0.338105      0.0  0.3381\n",
       "      3 │  338.105      1.5708    -251.25       0.0  0.338105      0.0  0.3381\n",
       "      4 │  338.105      2.35619   -251.25       0.0  0.338105      0.0  0.3381\n",
       "      5 │  338.105      3.14159   -251.25       0.0  0.338105      0.0  0.3381 ⋯\n",
       "      6 │  338.105      3.92699   -251.25       0.0  0.338105      0.0  0.3381\n",
       "      7 │  338.105      4.71239   -251.25       0.0  0.338105      0.0  0.3381\n",
       "      8 │  338.105      5.49779   -251.25       0.0  0.338105      0.0  0.3381\n",
       "      9 │ 1500.0        0.261799  -251.142      0.0  1.5           0.0  1.5    ⋯\n",
       "     10 │ 1500.0        0.785398  -251.142      0.0  1.5           0.0  1.5\n",
       "     11 │ 1500.0        1.309     -251.142      0.0  1.5           0.0  1.5\n",
       "   ⋮    │      ⋮           ⋮         ⋮         ⋮        ⋮         ⋮        ⋮   ⋱\n",
       " 181791 │    2.99662e5  7.01118      0.0        0.0  8.34274       0.0  8.3427\n",
       " 181792 │    2.99662e5  7.0164       0.0        0.0  8.34274       0.0  8.3427 ⋯\n",
       " 181793 │    2.99662e5  7.02162      0.0        0.0  8.34274       0.0  8.3427\n",
       " 181794 │    2.99662e5  7.02683      0.0        0.0  8.34274       0.0  8.3427\n",
       " 181795 │    2.99662e5  7.03205      0.0        0.0  8.34274       0.0  8.3427\n",
       " 181796 │    2.99662e5  7.03727      0.0        0.0  8.34274       0.0  8.3427 ⋯\n",
       " 181797 │    2.99662e5  7.04249      0.0        0.0  8.34274       0.0  8.3427\n",
       " 181798 │    2.99662e5  7.04771      0.0        0.0  8.34274       0.0  8.3427\n",
       " 181799 │    2.99662e5  7.05293      0.0        0.0  8.34274       0.0  8.3427\n",
       " 181800 │    2.99662e5  7.05815      0.0        0.0  8.34274       0.0  8.3427 ⋯\n",
       "\u001b[36m                                               2 columns and 181779 rows omitted\u001b[0m"
      ]
     },
     "execution_count": 7,
     "metadata": {},
     "output_type": "execute_result"
    }
   ],
   "source": [
    "ics = DataFrame(r=gridpoints[:,1],\n",
    "    l=gridpoints[:,2], \n",
    "    h=grid.physical[:,1,1], \n",
    "    u=grid.physical[:,2,1], \n",
    "    v=grid.physical[:,3,1],\n",
    "    ub = grid.physical[:,4,1],\n",
    "    vb = grid.physical[:,5,1],\n",
    "    wb = grid.physical[:,6,1]) "
   ]
  },
  {
   "cell_type": "code",
   "execution_count": 9,
   "id": "efc30135-2890-4257-9035-636aa3368cdd",
   "metadata": {},
   "outputs": [
    {
     "data": {
      "text/plain": [
       "\"SWslab_rankine_ics.csv\""
      ]
     },
     "execution_count": 9,
     "metadata": {},
     "output_type": "execute_result"
    }
   ],
   "source": [
    "CSV.write(\"SWslab_rankine_ics.csv\",ics)"
   ]
  }
 ],
 "metadata": {
  "kernelspec": {
   "display_name": "Julia 1.7.1",
   "language": "julia",
   "name": "julia-1.7"
  },
  "language_info": {
   "file_extension": ".jl",
   "mimetype": "application/julia",
   "name": "julia",
   "version": "1.7.2"
  }
 },
 "nbformat": 4,
 "nbformat_minor": 5
}
