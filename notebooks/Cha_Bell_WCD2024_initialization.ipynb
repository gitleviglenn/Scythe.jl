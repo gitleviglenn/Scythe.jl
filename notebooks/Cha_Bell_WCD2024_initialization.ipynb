{
 "cells": [
  {
   "cell_type": "code",
   "execution_count": null,
   "id": "4c0ae648",
   "metadata": {},
   "outputs": [],
   "source": [
    "##### Here is a demonstration of installing Scythe.jl through Jupyter Notebook\n",
    "\n",
    "# using Pkg\n",
    "# Pkg.add(path=\"/path/to/Scythe.jl\")\n",
    "\n",
    "##### If other packages have not been installed yet, user can uncomment the following line\n",
    "\n",
    "# Pkg.add(\"Distributed\")\n"
   ]
  },
  {
   "cell_type": "code",
   "execution_count": null,
   "id": "f70a0c39",
   "metadata": {},
   "outputs": [],
   "source": [
    "using Distributed\n",
    "addprocs(2)\n",
    "@everywhere using Scythe\n",
    "@everywhere using DistributedData\n",
    "@everywhere using SharedArrays\n",
    "@everywhere using SparseArrays\n",
    "using CSV\n",
    "using DataFrames"
   ]
  },
  {
   "cell_type": "code",
   "execution_count": null,
   "id": "76b678f6",
   "metadata": {},
   "outputs": [],
   "source": [
    "spinup = \"./symmetric_spinup\"\n",
    "if !isdir(spinup)\n",
    "    mkdir(spinup)\n",
    "end"
   ]
  },
  {
   "cell_type": "code",
   "execution_count": null,
   "id": "672f6018",
   "metadata": {},
   "outputs": [],
   "source": [
    "model = ModelParameters(\n",
    "    ts = 3.0,\n",
    "    integration_time = 10800.0,\n",
    "    output_interval = 3600.0,\n",
    "    equation_set = \"Oneway_ShallowWater_Slab\",\n",
    "    initial_conditions = \"./symmetric_spinup/SWslab_OnewayRankine.csv\",\n",
    "    output_dir = \"./symmetric_spinup/\",\n",
    "    grid_params = Scythe.GridParameters(\n",
    "        geometry=\"RL\",\n",
    "        xmin = 0.0,\n",
    "        xmax = 3.0e5,\n",
    "        num_cells = 100,\n",
    "        BCL = Dict(\n",
    "            \"h\" => Scythe.CubicBSpline.R1T1,\n",
    "            \"u\" => Scythe.CubicBSpline.R1T0,\n",
    "            \"v\" => Scythe.CubicBSpline.R1T0,\n",
    "            \"ub\" => Scythe.CubicBSpline.R1T0,\n",
    "            \"vb\" => Scythe.CubicBSpline.R1T0,\n",
    "            \"wb\" => Scythe.CubicBSpline.R1T1),\n",
    "        BCR = Dict(\n",
    "            \"h\" => Scythe.CubicBSpline.R0,\n",
    "            \"u\" => Scythe.CubicBSpline.R1T1,\n",
    "            \"v\" => Scythe.CubicBSpline.R0,\n",
    "            \"ub\" => Scythe.CubicBSpline.R1T1,\n",
    "            \"vb\" => Scythe.CubicBSpline.R0,\n",
    "            \"wb\" => Scythe.CubicBSpline.R0),\n",
    "        vars = Dict(\n",
    "            \"h\" => 1,\n",
    "            \"u\" => 2,\n",
    "            \"v\" => 3,\n",
    "            \"ub\" => 4,\n",
    "            \"vb\" => 5,\n",
    "            \"wb\" => 6)),\n",
    "        physical_params = Dict(\n",
    "            :g => 9.81,\n",
    "            :K => 3000.0,\n",
    "            :Cd => 2.4e-3,\n",
    "            :Hfree => 2000.0,\n",
    "            :Hb => 1000.0,\n",
    "            :f => 5.0e-5))"
   ]
  },
  {
   "cell_type": "code",
   "execution_count": null,
   "id": "f6b6f1e8",
   "metadata": {},
   "outputs": [],
   "source": [
    "scythegrid = Scythe.createGrid(model.grid_params)\n",
    "gridpoints = Scythe.getGridpoints(scythegrid);"
   ]
  },
  {
   "cell_type": "code",
   "execution_count": null,
   "id": "a25536e6",
   "metadata": {},
   "outputs": [],
   "source": [
    "Rmax = 50000.0\n",
    "Vmax = 50.0\n",
    "V0 = Vmax / Rmax\n",
    "zeta = 2.0 * V0\n",
    "epsilon = 5000.0\n",
    "f = 5.0e-5\n",
    "r_1 = 0.0\n",
    "h = 0.0\n",
    "ubar = 0.0\n",
    "vbar = 0.0\n",
    "vprime = 0.0\n",
    "uprime = 0.0\n",
    "for i = 1:scythegrid.params.lDim\n",
    "    r_m = gridpoints[i,1]\n",
    "    l_m = gridpoints[i,2]\n",
    "    if (r_m < Rmax)\n",
    "        vbar = V0 * r_m\n",
    "    else\n",
    "        vbar = Rmax * Rmax * V0 / r_m\n",
    "    end\n",
    "    if r_m > r_1\n",
    "        dhdr = ((f * vbar) + (vbar * vbar / r_m)) / 9.81\n",
    "        h = h + (dhdr * (r_m - r_1))\n",
    "        r_1 = r_m\n",
    "    end\n",
    "    scythegrid.physical[i,1,1] = h\n",
    "    scythegrid.physical[i,2,1] = ubar\n",
    "    scythegrid.physical[i,3,1] = vbar\n",
    "    scythegrid.physical[i,4,1] = ubar\n",
    "    scythegrid.physical[i,5,1] = vbar\n",
    "    scythegrid.physical[i,6,1] = 0.0\n",
    "end"
   ]
  },
  {
   "cell_type": "code",
   "execution_count": null,
   "id": "2f4e4b60",
   "metadata": {},
   "outputs": [],
   "source": [
    "rankine_ics = DataFrame(r=gridpoints[:,1],\n",
    "    l=gridpoints[:,2], \n",
    "    h=scythegrid.physical[:,1,1], \n",
    "    u=scythegrid.physical[:,2,1], \n",
    "    v=scythegrid.physical[:,3,1],\n",
    "    ub = scythegrid.physical[:,4,1],\n",
    "    vb = scythegrid.physical[:,5,1],\n",
    "    wb = scythegrid.physical[:,6,1]); "
   ]
  },
  {
   "cell_type": "code",
   "execution_count": null,
   "id": "eb5c4be0",
   "metadata": {},
   "outputs": [],
   "source": [
    "CSV.write(spinup*\"/SWslab_OnewayRankine.csv\",rankine_ics)"
   ]
  },
  {
   "cell_type": "code",
   "execution_count": null,
   "id": "e7a4c20f",
   "metadata": {},
   "outputs": [],
   "source": [
    "# Run the 3-hr spinup\n",
    "integrate_model(model)"
   ]
  },
  {
   "cell_type": "code",
   "execution_count": null,
   "id": "6670116c",
   "metadata": {},
   "outputs": [],
   "source": [
    "balanced = CSV.read(\"./symmetric_spinup/physical_out_10800.0.csv\", DataFrame, header=1);"
   ]
  },
  {
   "cell_type": "code",
   "execution_count": null,
   "id": "5984934e",
   "metadata": {},
   "outputs": [],
   "source": [
    "Rmax = 50000.0\n",
    "Vmax = 50.0\n",
    "V0 = Vmax / Rmax\n",
    "zeta = 2.0 * V0\n",
    "epsilon = 5000.0\n",
    "f = 5.0e-5\n",
    "r_1 = 0.0\n",
    "h = 0.0\n",
    "ubar = 0.0\n",
    "vbar = 0.0\n",
    "vprime = 0.0\n",
    "uprime = 0.0\n",
    "for i = 1:scythegrid.params.lDim\n",
    "    r_m = gridpoints[i,1]\n",
    "    l_m = gridpoints[i,2]\n",
    "    R_eli = Rmax + (epsilon * cos(2 * l_m))\n",
    "    \n",
    "    # Use the output field for mean vortex\n",
    "    vfree = balanced.v[i]\n",
    "    ufree = balanced.u[i]\n",
    "    h = balanced.h[i]\n",
    "    vbl = balanced.vb[i]\n",
    "    ubl = balanced.ub[i]\n",
    "    wbl = balanced.wb[i]    \n",
    "\n",
    "    if (r_m < Rmax)\n",
    "        vprime = 0.5 * zeta * r_m * (epsilon * cos(2 * l_m) / Rmax)\n",
    "        uprime = 0.5 * zeta * r_m * (epsilon * sin(2 * l_m) / Rmax)\n",
    "    else\n",
    "        vprime = 0.5 * zeta * (Rmax^2 / r_m) * (-epsilon * cos(2 * l_m) * Rmax / r_m^2)\n",
    "        uprime = 0.5 * zeta * (Rmax^2 / r_m) * (epsilon * sin(2 * l_m) * Rmax / r_m^2)\n",
    "    end\n",
    "    scythegrid.physical[i,1,1] = h\n",
    "    scythegrid.physical[i,2,1] = ufree + uprime\n",
    "    scythegrid.physical[i,3,1] = vfree + vprime\n",
    "    scythegrid.physical[i,4,1] = ubl + uprime\n",
    "    scythegrid.physical[i,5,1] = vbl + vprime\n",
    "    scythegrid.physical[i,6,1] = wbl\n",
    "end"
   ]
  },
  {
   "cell_type": "code",
   "execution_count": null,
   "id": "7cada5cc",
   "metadata": {},
   "outputs": [],
   "source": [
    "wave2_ics = DataFrame(r=gridpoints[:,1],\n",
    "    l=gridpoints[:,2], \n",
    "    h=scythegrid.physical[:,1,1], \n",
    "    u=scythegrid.physical[:,2,1], \n",
    "    v=scythegrid.physical[:,3,1],\n",
    "    ub = scythegrid.physical[:,4,1],\n",
    "    vb = scythegrid.physical[:,5,1],\n",
    "    wb = scythegrid.physical[:,6,1]);"
   ]
  },
  {
   "cell_type": "code",
   "execution_count": null,
   "id": "9adbe4c3",
   "metadata": {},
   "outputs": [],
   "source": [
    "oneway = \"./oneway_wave2\"\n",
    "if !isdir(oneway)\n",
    "    mkdir(oneway)\n",
    "end"
   ]
  },
  {
   "cell_type": "code",
   "execution_count": null,
   "id": "80c31eb2",
   "metadata": {},
   "outputs": [],
   "source": [
    "CSV.write(oneway*\"/SWslab_wave2.csv\",wave2_ics)"
   ]
  },
  {
   "cell_type": "code",
   "execution_count": null,
   "id": "8cdf6b89",
   "metadata": {},
   "outputs": [],
   "source": [
    "# To reproduce the one-way model results in Cha and Bell (2024)\n",
    "# Change the initial conditions and integration time in the model structure to:\n",
    "#\n",
    "#    initial_conditions = \"./oneway_wave2/SWslab_wave2.csv\",\n",
    "#    integration_time = 86400.0,\n",
    "#\n",
    "# and run integrate_model(model) again\n",
    "#\n",
    "# To reproduce the two-way model results in Cha and Bell (2024)\n",
    "# Change the IC and integration as above and change equation set to:\n",
    "#\n",
    "#    equation_set = \"Twoway_ShallowWater_Slab\",\n",
    "#\n",
    "# and run integrate_model(model) again\n",
    "#\n",
    "# Running in a terminal or job submission instead of the notebook is recommended\n",
    "# for the full 24-hour simulations"
   ]
  }
 ],
 "metadata": {
  "kernelspec": {
   "display_name": "Julia 1.10.2",
   "language": "julia",
   "name": "julia-1.10"
  },
  "language_info": {
   "file_extension": ".jl",
   "mimetype": "application/julia",
   "name": "julia",
   "version": "1.10.2"
  }
 },
 "nbformat": 4,
 "nbformat_minor": 5
}
